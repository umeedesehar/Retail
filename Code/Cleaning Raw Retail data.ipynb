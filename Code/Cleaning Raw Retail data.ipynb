{
 "cells": [
  {
   "cell_type": "code",
   "execution_count": 14,
   "metadata": {},
   "outputs": [],
   "source": [
    "import pandas as pd\n",
    "import numpy as np"
   ]
  },
  {
   "cell_type": "code",
   "execution_count": null,
   "metadata": {},
   "outputs": [],
   "source": [
    "data_url = 'https://archive.ics.uci.edu/static/public/352/data.csv'\n",
    "df = pd.read_csv(data_url)\n",
    "print(df.shape)\n",
    "print(df.columns)"
   ]
  },
  {
   "cell_type": "markdown",
   "metadata": {},
   "source": [
    "# Renaming Columns"
   ]
  },
  {
   "cell_type": "code",
   "execution_count": null,
   "metadata": {},
   "outputs": [],
   "source": [
    "df = df.rename(columns={\n",
    "    'InvoiceNo':'Invoice_No',\n",
    "    'StockCode':'Stock_Code',\n",
    "    'InvoiceDate':'Date',\n",
    "    'UnitPrice':'Unit_Price',\n",
    "    'CustomerID':'Customer_ID',\n",
    "    })\n",
    "print(df.columns)"
   ]
  },
  {
   "cell_type": "markdown",
   "metadata": {},
   "source": [
    "# Type Casting"
   ]
  },
  {
   "cell_type": "code",
   "execution_count": null,
   "metadata": {},
   "outputs": [],
   "source": [
    "df.dtypes"
   ]
  },
  {
   "cell_type": "code",
   "execution_count": 24,
   "metadata": {},
   "outputs": [],
   "source": [
    "df['Date'] = pd.to_datetime(df['Date'], errors='coerce')"
   ]
  },
  {
   "cell_type": "markdown",
   "metadata": {},
   "source": [
    "# Handeling Null Valures"
   ]
  },
  {
   "cell_type": "code",
   "execution_count": null,
   "metadata": {},
   "outputs": [],
   "source": [
    "df.info()"
   ]
  },
  {
   "cell_type": "code",
   "execution_count": null,
   "metadata": {},
   "outputs": [],
   "source": [
    "df.isnull().sum()"
   ]
  },
  {
   "cell_type": "code",
   "execution_count": null,
   "metadata": {},
   "outputs": [],
   "source": [
    "(df.isnull().sum() / df.shape[0] * 100).map(lambda x: f\"{x:.2f}%\")"
   ]
  },
  {
   "cell_type": "code",
   "execution_count": null,
   "metadata": {},
   "outputs": [],
   "source": [
    "# Since a very small % of description is empty we will leave it as it is \n",
    "# but fill the Customer ID with a placeholder as it has many null values\n",
    "df['Customer_ID'].fillna('Unknown', inplace=True)\n"
   ]
  },
  {
   "cell_type": "code",
   "execution_count": null,
   "metadata": {},
   "outputs": [],
   "source": [
    "print(f\"Shape of the Data: {df.shape},\\n\\nNumber of Null Values {df.isnull().sum()}\")"
   ]
  },
  {
   "cell_type": "markdown",
   "metadata": {},
   "source": [
    "# Feature Engineering"
   ]
  },
  {
   "cell_type": "code",
   "execution_count": 30,
   "metadata": {},
   "outputs": [],
   "source": [
    "# Extract time-based features\n",
    "df['Date'] = pd.to_datetime(df['Date'])\n",
    "df['DayOfWeek'] = df['Date'].dt.day_name()  # 0: Monday, 6: Sunday\n",
    "df['Month'] = df['Date'].dt.month\n",
    "df['Year'] = df['Date'].dt.year\n",
    "df['Quarter'] = df['Date'].dt.quarter\n",
    "df['DayOfMonth'] = df['Date'].dt.day"
   ]
  },
  {
   "cell_type": "code",
   "execution_count": 31,
   "metadata": {},
   "outputs": [],
   "source": [
    "df['Total_Revenue'] = df['Quantity']*df['Unit_Price']"
   ]
  },
  {
   "cell_type": "markdown",
   "metadata": {},
   "source": [
    "# Handeling Duplicates"
   ]
  },
  {
   "cell_type": "code",
   "execution_count": null,
   "metadata": {},
   "outputs": [],
   "source": [
    "# We are not going to remove these duplicates as there may be many purchases by a single customer which are entered separately.\n",
    "# Removing them will also lead to loss of valueable information\n",
    "df.duplicated().sum()"
   ]
  },
  {
   "cell_type": "markdown",
   "metadata": {},
   "source": [
    "# Detecting Outliers by IQR"
   ]
  },
  {
   "cell_type": "code",
   "execution_count": null,
   "metadata": {},
   "outputs": [],
   "source": [
    "df.describe(include='all')"
   ]
  },
  {
   "cell_type": "code",
   "execution_count": null,
   "metadata": {},
   "outputs": [],
   "source": [
    "# Calculate IQR for each column\n",
    "Q1 = df[['Quantity', 'Unit_Price', 'Total_Revenue']].quantile(0.25)\n",
    "Q3 = df[['Quantity', 'Unit_Price', 'Total_Revenue']].quantile(0.75)\n",
    "IQR = Q3 - Q1\n",
    "\n",
    "# Define the condition for outliers\n",
    "iqr_outliers = ((df[['Quantity', 'Unit_Price', 'Total_Revenue']] < (Q1 - 1.5 * IQR)) | \n",
    "            (df[['Quantity', 'Unit_Price', 'Total_Revenue']] > (Q3 + 1.5 * IQR)))\n",
    "\n",
    "# Display rows with outliers\n",
    "outlier_rows = df[iqr_outliers.any(axis=1)]\n",
    "print(outlier_rows)\n",
    "print()\n",
    "print('Total Number of Outliers:', outlier_rows.shape)"
   ]
  },
  {
   "cell_type": "code",
   "execution_count": null,
   "metadata": {},
   "outputs": [],
   "source": [
    "# Count the number of outliers for each column separately\n",
    "quantity_outliers = iqr_outliers['Quantity'].sum()\n",
    "unit_price_outliers = iqr_outliers['Unit_Price'].sum()\n",
    "total_revenue_outliers = iqr_outliers['Total_Revenue'].sum()\n",
    "\n",
    "print(f\"Number of outliers in 'Quantity': {quantity_outliers}\")\n",
    "print(f\"Number of outliers in 'Unit_Price': {unit_price_outliers}\")\n",
    "print(f\"Number of outliers in 'Total_Revenue': {total_revenue_outliers}\")\n"
   ]
  },
  {
   "cell_type": "markdown",
   "metadata": {},
   "source": [
    "# Data Visualization to Analyze Outliers"
   ]
  },
  {
   "cell_type": "code",
   "execution_count": null,
   "metadata": {},
   "outputs": [],
   "source": [
    "!pip install matplotlib seaborn\n",
    "import matplotlib.pyplot as plt\n",
    "import seaborn as sns"
   ]
  },
  {
   "cell_type": "markdown",
   "metadata": {},
   "source": [
    "### Price Outliers"
   ]
  },
  {
   "cell_type": "code",
   "execution_count": null,
   "metadata": {},
   "outputs": [],
   "source": [
    "# Total +ive Values in Price\n",
    "price_pos_outlier = df[df['Unit_Price']>1000]\n",
    "print('Total +ive Price Values:', price_pos_outlier.shape[0])\n",
    "\n",
    "# Total -ive Values in Price\n",
    "price_neg_outlier = df[df['Unit_Price']<0]\n",
    "print(f'Total -ive Price Values:{price_neg_outlier.shape[0]}')\n",
    "\n",
    "# Boxplot with light pink outliers\n",
    "plt.figure(figsize=(15, 5))\n",
    "\n",
    "plt.subplot(1, 3, 1)\n",
    "sns.boxplot(x=df['Unit_Price'], flierprops=dict(markerfacecolor= 'skyblue', marker='o', markersize=8))\n",
    "plt.title('Boxplot for Price Data')\n",
    "\n",
    "# Histogram with orange color\n",
    "plt.subplot(1, 3, 2)\n",
    "sns.histplot(x=df['Unit_Price'], kde=True, bins=30, color='orange')\n",
    "plt.title('Histogram for Price Data')\n",
    "\n",
    "# Scatter plot with light pink outliers\n",
    "plt.subplot(1, 3, 3)\n",
    "sns.scatterplot(x=df['Unit_Price'], y=df['Quantity'], color='lightpink')\n",
    "plt.title('Scatter plot for Price Data Unit Price vs Quantity')\n",
    "\n",
    "# Layout adjustments\n",
    "plt.tight_layout()\n",
    "plt.show()"
   ]
  },
  {
   "cell_type": "markdown",
   "metadata": {},
   "source": [
    "### Quantity Outliers\n"
   ]
  },
  {
   "cell_type": "code",
   "execution_count": null,
   "metadata": {},
   "outputs": [],
   "source": [
    "# Total +ive Values in Quantity\n",
    "quan_pos_outlier = df[df['Quantity']>1000]\n",
    "print('Shape of +ive Quantity above 1000:',quan_pos_outlier.shape[0])\n",
    "\n",
    "# Total -ive values in Quantity\n",
    "quan_neg_outlier = df[df['Quantity']<0]\n",
    "print(f'Shape of -ive Quantity Values:{quan_neg_outlier.shape[0]}')\n",
    "\n",
    "# Boxplot with light pink outliers\n",
    "plt.figure(figsize=(15, 5))\n",
    "\n",
    "plt.subplot(1, 3, 1)\n",
    "sns.boxplot(x=df['Quantity'], flierprops=dict(markerfacecolor= 'skyblue', marker='o', markersize=8))\n",
    "plt.title('Boxplot for Quantity Data')\n",
    "\n",
    "# Histogram with orange color\n",
    "plt.subplot(1, 3, 2)\n",
    "sns.histplot(x=df['Quantity'], kde=True, bins=30, color='orange')\n",
    "plt.title('Histogram for Quantity Data')\n",
    "\n",
    "# Scatter plot with light pink outliers\n",
    "plt.subplot(1, 3, 3)\n",
    "sns.scatterplot(x=df['Unit_Price'], y=df['Quantity'], color='lightpink')\n",
    "plt.title('Scatter plot for Unit Price vs Quantity')\n",
    "\n",
    "# Layout adjustments\n",
    "plt.tight_layout()\n",
    "plt.show()"
   ]
  },
  {
   "cell_type": "markdown",
   "metadata": {},
   "source": [
    "### Revenue Outliers"
   ]
  },
  {
   "cell_type": "code",
   "execution_count": null,
   "metadata": {},
   "outputs": [],
   "source": [
    "# Total +ive Values in Revenue\n",
    "rev_pos_outlier = df[df['Total_Revenue']>1000]\n",
    "print('Shape of +ive Quantity above 1000:',rev_pos_outlier.shape[0])\n",
    "\n",
    "# Total -ive values in Revenue\n",
    "rev_neg_outlier = df[df['Total_Revenue']<0]\n",
    "print(f'Shape of -ive Quantity Values:{rev_neg_outlier.shape[0]}')\n",
    "\n",
    "# Boxplot with light pink outliers\n",
    "plt.figure(figsize=(15, 5))\n",
    "\n",
    "plt.subplot(1, 3, 1)\n",
    "sns.boxplot(x=df['Total_Revenue'], flierprops=dict(markerfacecolor= 'skyblue', marker='o', markersize=8))\n",
    "plt.title('Boxplot for Total_Revenue Data')\n",
    "\n",
    "# Histogram with orange color\n",
    "plt.subplot(1, 3, 2)\n",
    "sns.histplot(x=df['Total_Revenue'], kde=True, bins=30, color='orange')\n",
    "plt.title('Histogram for Total_RevenueData')\n",
    "\n",
    "# Scatter plot with light pink outliers\n",
    "plt.subplot(1, 3, 3)\n",
    "sns.scatterplot(x=df['Total_Revenue'], y=df['Quantity'], color='lightpink')\n",
    "plt.title('Scatter plot for Quantity vs Total_Revenue')\n",
    "\n",
    "# Layout adjustments\n",
    "plt.tight_layout()\n",
    "plt.show()"
   ]
  },
  {
   "cell_type": "markdown",
   "metadata": {},
   "source": [
    "You must have noticed that outliers in Total_Revenue is due to the -ive values in Quantity."
   ]
  },
  {
   "cell_type": "markdown",
   "metadata": {},
   "source": [
    "## Detecting Outliers with Z-Score\n",
    "Since IQR is giving us so many outliers due to the variability in the dataset so Z-score would be more suitable."
   ]
  },
  {
   "cell_type": "code",
   "execution_count": null,
   "metadata": {},
   "outputs": [],
   "source": [
    "from scipy.stats import zscore\n",
    "import matplotlib.pyplot as plt\n",
    "import seaborn as sns\n",
    "\n",
    "# Calculate Z-scores for the specified columns\n",
    "z_scores = df[['Quantity', 'Unit_Price', 'Total_Revenue']].apply(zscore)\n",
    "\n",
    "# Define a threshold for outliers (commonly 3 or -3)\n",
    "threshold = 3\n",
    "\n",
    "# Identify rows where any Z-score exceeds the threshold\n",
    "outliers = (z_scores.abs() > threshold).any(axis=1)\n",
    "\n",
    "# Add the outliers column to the DataFrame\n",
    "df['Outlier'] = outliers\n",
    "\n",
    "# Count the number of outliers\n",
    "outlier_count = outliers.sum()\n",
    "\n",
    "print(f\"Number of outliers: {outlier_count}\")\n",
    "\n"
   ]
  },
  {
   "cell_type": "code",
   "execution_count": null,
   "metadata": {},
   "outputs": [],
   "source": [
    "# Scatter plot to visualize outliers\n",
    "plt.figure(figsize=(12, 6))\n",
    "sns.scatterplot(\n",
    "    data=df,\n",
    "    x='Quantity', \n",
    "    y='Total_Revenue',\n",
    "    hue='Outlier',  # Use the 'Outlier' column for coloring\n",
    "    palette={True: 'red', False: 'blue'},  # Red for outliers, blue for non-outliers\n",
    "    alpha=0.6\n",
    ")\n",
    "plt.title('Outliers Highlighted in Scatter Plot')\n",
    "plt.legend(title='Outlier')\n",
    "plt.show()"
   ]
  },
  {
   "cell_type": "code",
   "execution_count": null,
   "metadata": {},
   "outputs": [],
   "source": [
    "# Focus on a subset of data to zoom in\n",
    "plt.figure(figsize=(12, 6))\n",
    "sns.scatterplot(\n",
    "    data=df[(df['Total_Revenue'] > -10000) & (df['Total_Revenue'] < 10000) & \n",
    "            (df['Quantity'] > -1000) & (df['Quantity'] < 1000)],\n",
    "    x='Quantity', \n",
    "    y='Total_Revenue',\n",
    "    hue='Outlier',\n",
    "    palette={True: 'red', False: 'blue'},\n",
    "    alpha=0.6\n",
    ")\n",
    "plt.title('Zoomed-in Scatter Plot of Outliers')\n",
    "plt.legend(title='Outlier')\n",
    "plt.show()"
   ]
  },
  {
   "cell_type": "code",
   "execution_count": null,
   "metadata": {},
   "outputs": [],
   "source": [
    "# Box plot visualization\n",
    "plt.figure(figsize=(18, 5))\n",
    "columns = ['Quantity', 'Unit_Price', 'Total_Revenue']\n",
    "for i, col in enumerate(columns):\n",
    "    plt.subplot(1, 3, i + 1)\n",
    "    sns.boxplot(data=df, x=col)\n",
    "    plt.title(f'Box Plot of {col}')\n",
    "plt.tight_layout()\n",
    "plt.show()"
   ]
  },
  {
   "cell_type": "markdown",
   "metadata": {},
   "source": [
    "# Splitting data\n",
    "  Separating data based on Year. Since we have data of 2010 and 2011 analize them separately would be a good option."
   ]
  },
  {
   "cell_type": "code",
   "execution_count": null,
   "metadata": {},
   "outputs": [],
   "source": [
    "df_2010 = df[df['Year']==2010]\n",
    "df_2011 = df[df['Year']==2011]\n",
    "\n",
    "print('2010 data shape:' , df_2010.shape)\n",
    "print('2010 Months:', df_2010['Month'].value_counts())\n",
    "print()\n",
    "print('2011 data shape:', df_2011.shape)\n",
    "print('Months of 2011:', df_2011['Month'].value_counts().sort_values(ascending=False))"
   ]
  },
  {
   "cell_type": "markdown",
   "metadata": {},
   "source": [
    "Since we have only one month of 2010 (December), We are not going to separate the dataset based on Year."
   ]
  },
  {
   "cell_type": "markdown",
   "metadata": {},
   "source": [
    "### Splitting Data by Low, Medium and High Prices."
   ]
  },
  {
   "cell_type": "code",
   "execution_count": null,
   "metadata": {},
   "outputs": [],
   "source": [
    "low_price_df = df[df['Unit_Price']<= 10]\n",
    "med_price_df = df[(df['Unit_Price']>10) & (df['Unit_Price']<=100)]\n",
    "high_price_df = df[df['Unit_Price']>100]\n",
    "print(f'Low Price Data Shape (0-10): {low_price_df.shape}\\nMedium Price Data Shape (10-100): {med_price_df.shape}\\nHigh Price Data Shape (100-3000): {high_price_df.shape}')"
   ]
  },
  {
   "cell_type": "code",
   "execution_count": null,
   "metadata": {},
   "outputs": [],
   "source": [
    "\n",
    "# Function to find outliers using IQR for a given DataFrame and column\n",
    "def find_outliers(df, column):\n",
    "    Q1 = df[column].quantile(0.25)\n",
    "    Q3 = df[column].quantile(0.75)\n",
    "    IQR = Q3 - Q1\n",
    "    lower_bound = Q1 - 1.5 * IQR\n",
    "    upper_bound = Q3 + 1.5 * IQR\n",
    "    return df[(df[column] < lower_bound) | (df[column] > upper_bound)]\n",
    "\n",
    "# Find outliers in low-price, medium-price, and high-price groups\n",
    "low_price_outliers = find_outliers(low_price_df, 'Unit_Price')\n",
    "med_price_outliers = find_outliers(med_price_df, 'Unit_Price')\n",
    "high_price_outliers = find_outliers(high_price_df, 'Unit_Price')\n",
    "\n",
    "# Print the number of outliers\n",
    "print(f\"Number of Low Price Outliers (<=10): {low_price_outliers.shape[0]}\")\n",
    "print(f\"Number of Medium Price Outliers (10-100): {med_price_outliers.shape[0]}\")\n",
    "print(f\"Number of High Price Outliers (>100): {high_price_outliers.shape[0]}\")\n"
   ]
  },
  {
   "cell_type": "markdown",
   "metadata": {},
   "source": [
    "### DataFrame 1: Low Priced Data"
   ]
  },
  {
   "cell_type": "code",
   "execution_count": null,
   "metadata": {},
   "outputs": [],
   "source": [
    "#Its time to visualize all the three datasets' outliers separately\n",
    "\n",
    "print(f\"Number of Low Priced Outliers (<=10): {low_price_outliers.shape[0]}\")\n",
    "\n",
    "plt.figure(figsize=(15,5))\n",
    "\n",
    "plt.subplot(1, 3, 1)\n",
    "sns.boxplot(x=low_price_df['Unit_Price'])\n",
    "plt.title('Boxplot for Low priced data')\n",
    "\n",
    "plt.subplot(1, 3, 2)\n",
    "sns.histplot(low_price_df['Unit_Price'], kde=True, bins=10)\n",
    "plt.title('Histogram for Low priced data')\n",
    "\n",
    "plt.subplot(1, 3, 3)\n",
    "sns.scatterplot(x=low_price_df['Unit_Price'], y=low_price_df['Quantity'])\n",
    "plt.title('Scatter plot for Low Priced Data Unit Price vs Quanitity')\n",
    "\n",
    "plt.tight_layout()\n",
    "plt.show()\n"
   ]
  },
  {
   "cell_type": "markdown",
   "metadata": {},
   "source": [
    "# Handling Outliers for Low Priced Data\n"
   ]
  },
  {
   "cell_type": "markdown",
   "metadata": {},
   "source": [
    "For Low Priced Data \n",
    "\n",
    "Methode 1: Capping/Winsorization by adjusting the upper bound we saved our most of the data and got rid of outliers. First lower_bound was 0.05 and upper_boound was 0.95.\n",
    "But we see that outliers before and after capping were same. After adjusting to lower=0.05 and upper=0.93 we successfully removed outliers."
   ]
  },
  {
   "cell_type": "code",
   "execution_count": null,
   "metadata": {},
   "outputs": [],
   "source": [
    "lower_bound = low_price_df['Unit_Price'].quantile(0.05)\n",
    "upper_bound = low_price_df['Unit_Price'].quantile(0.93)   \n",
    "# Cap values\n",
    "capping = low_price_df['Unit_Price'].clip(lower_bound, upper_bound)\n",
    "\n",
    "# Calculate IQR\n",
    "Q1_capped = capping.quantile(0.25)\n",
    "Q3_capped = capping.quantile(0.75)\n",
    "IQR_capped = Q3_capped - Q1_capped\n",
    "\n",
    "lower_limit_capped = Q1_capped - 1.5 * IQR_capped\n",
    "upper_limit_capped = Q3_capped + 1.5 * IQR_capped\n",
    "\n",
    "# Identify outliers based on IQR method\n",
    "print(f\"Number of IQR method outliers before capping: {low_price_outliers.shape[0]}\")\n",
    "\n",
    "# Identify outliers based on IQR method after capping\n",
    "outliers_iqr_after = capping[(capping < lower_limit_capped) | (capping > upper_limit_capped)]\n",
    "print(f\"Number of IQR method outliers after capping: {outliers_iqr_after.shape[0]}\")\n",
    "\n",
    "\n",
    "# Plot capped values\n",
    "plt.figure(figsize=(15,5))\n",
    "\n",
    "plt.subplot(1, 2, 1)\n",
    "sns.boxplot(x=capping)\n",
    "plt.title('Boxplot for Low priced data after Capping')\n",
    "\n",
    "plt.subplot(1, 2, 2)\n",
    "sns.histplot(capping, kde=True, bins=10)\n",
    "plt.title('Histogram for Low priced data after capping')\n",
    "\n",
    "plt.tight_layout()\n",
    "plt.show()\n"
   ]
  },
  {
   "cell_type": "markdown",
   "metadata": {},
   "source": [
    "Method 2: Log Transformation\n",
    "\n",
    "Purpose: Reduce the skewness of data caused by large outliers, useful when the data has a long tail or positive skewness."
   ]
  },
  {
   "cell_type": "code",
   "execution_count": null,
   "metadata": {},
   "outputs": [],
   "source": [
    "# Apply log transformation\n",
    "log_trans = np.log1p(low_price_df['Unit_Price'])  # Use log1p to handle zeros\n",
    "\n",
    "# Calculate IQR on the transformed data\n",
    "Q1_log = log_trans.quantile(0.25)  # Use the transformed column\n",
    "Q3_log = log_trans.quantile(0.75)\n",
    "IQR_log = Q3_log - Q1_log\n",
    "\n",
    "# Define lower and upper limits for outliers\n",
    "lower_limit_log = Q1_log - 1.5 * IQR_log\n",
    "upper_limit_log = Q3_log + 1.5 * IQR_log\n",
    "\n",
    "# Identify outliers after log transformation\n",
    "outliers_after_log = log_trans[(log_trans < lower_limit_log) | (log_trans > upper_limit_log)]\n",
    "\n",
    "# Number of Outliers\n",
    "print(f\"Number of Outliers before Log Transformation: {low_price_outliers.shape[0]}\")\n",
    "print(f\"Number of Outliers after Log Transformation: {outliers_after_log.shape[0]}\")\n",
    "print(f\"Number of Data Points Removed {low_price_df.shape[0]-log_trans.shape[0]}\")\n",
    "\n",
    "# Plot the data0\n",
    "plt.figure(figsize=(10, 5))\n",
    "\n",
    "# Boxplot for transformed data\n",
    "plt.subplot(1, 2, 1)\n",
    "sns.boxplot(x=log_trans)\n",
    "plt.title('Boxplot of Log-Transformed Low-Priced Data')\n",
    "\n",
    "# Histogram for transformed data\n",
    "plt.subplot(1, 2, 2)\n",
    "sns.histplot(log_trans, kde=True, bins=10)\n",
    "plt.title('Histogram of Log-Transformed Low-Priced Data')\n",
    "\n",
    "plt.tight_layout()\n",
    "plt.show()\n"
   ]
  },
  {
   "cell_type": "markdown",
   "metadata": {},
   "source": [
    "### Applying Capping to the original Data\n",
    "\n",
    "Capping is the method that is chose as it retain the variablity of the data."
   ]
  },
  {
   "cell_type": "code",
   "execution_count": null,
   "metadata": {},
   "outputs": [],
   "source": [
    "lower_bound = low_price_df['Unit_Price'].quantile(0.05)\n",
    "upper_bound = low_price_df['Unit_Price'].quantile(0.93)   \n",
    "\n",
    "# Cap values\n",
    "low_price_df['Unit_Price'] = low_price_df['Unit_Price'].clip(lower_bound, upper_bound)\n",
    "\n",
    "# Identify outliers based on IQR method\n",
    "print(f\"Number of IQR method outliers before capping: {low_price_outliers.shape[0]}\")\n",
    "\n",
    "# Identify outliers based on IQR method after capping\n",
    "outliers_iqr_after = capping[(capping < lower_limit_capped) | (capping > upper_limit_capped)]\n",
    "print(f\"Number of IQR method outliers after capping: {outliers_iqr_after.shape[0]}\")\n",
    "\n",
    "\n",
    "# Plot capped values\n",
    "plt.figure(figsize=(15,5))\n",
    "\n",
    "plt.subplot(1, 2, 1)\n",
    "sns.boxplot(x=low_price_df['Unit_Price'])\n",
    "plt.title('Boxplot for Low priced data after Capping')\n",
    "\n",
    "plt.subplot(1, 2, 2)\n",
    "sns.histplot(low_price_df['Unit_Price'], kde=True, bins=10)\n",
    "plt.title('Histogram for Low priced data after cappingS')\n",
    "\n",
    "plt.tight_layout()\n",
    "plt.show()\n"
   ]
  },
  {
   "cell_type": "markdown",
   "metadata": {},
   "source": [
    "Quantity Outliers Handling"
   ]
  },
  {
   "cell_type": "code",
   "execution_count": null,
   "metadata": {},
   "outputs": [],
   "source": [
    "lower_bound = low_price_df['Quantity'].quantile(0.05)\n",
    "upper_bound = low_price_df['Quantity'].quantile(0.90)   \n",
    "# Cap values\n",
    "quan_capping = low_price_df['Quantity'].clip(lower_bound, upper_bound)\n",
    "\n",
    "# Calculate IQR\n",
    "Q1_quan_capped = quan_capping.quantile(0.25)\n",
    "Q3_quan_capped =  quan_capping.quantile(0.75)\n",
    "IQR_quan_capped = Q3_quan_capped - Q1_quan_capped\n",
    "\n",
    "lower_limit_capped = Q1_quan_capped - 1.5 * IQR_quan_capped\n",
    "upper_limit_capped = Q3_quan_capped + 1.5 * IQR_quan_capped\n",
    "\n",
    "\n",
    "\n",
    "# Plot capped values\n",
    "plt.figure(figsize=(15,5))\n",
    "\n",
    "plt.subplot(1, 2, 1)\n",
    "sns.boxplot(x=quan_capping)\n",
    "plt.title('Boxplot for Low priced data after Capping')\n",
    "\n",
    "plt.subplot(1, 2, 2)\n",
    "sns.histplot(quan_capping, kde=True, bins=10)\n",
    "plt.title('Histogram for Low priced data after capping')\n",
    "\n",
    "plt.tight_layout()\n",
    "plt.show()\n"
   ]
  },
  {
   "cell_type": "markdown",
   "metadata": {},
   "source": [
    "# Medium Priced Data"
   ]
  },
  {
   "cell_type": "code",
   "execution_count": null,
   "metadata": {},
   "outputs": [],
   "source": [
    "print(f\"Number of Medium Priced Data Outliers (10-100): {med_price_outliers.shape[0]}\")\n",
    "\n",
    "plt.figure(figsize=(15,5))\n",
    "\n",
    "plt.subplot(1, 3, 1)\n",
    "sns.boxplot(x=med_price_df['Unit_Price'])\n",
    "plt.title('Boxplot for Medium Price Data')\n",
    "\n",
    "plt.subplot(1, 3, 2)\n",
    "sns.histplot(med_price_df['Unit_Price'], kde=True, bins=10, color='orange')\n",
    "plt.title('Histogram for Medium Price Data')\n",
    "\n",
    "plt.subplot(1, 3, 3)\n",
    "sns.scatterplot(x=med_price_df['Unit_Price'], y=med_price_df['Quantity'])\n",
    "plt.title('Scatter plot for Medium Price Data Unit Price vs Quantity')\n",
    "\n",
    "plt.tight_layout()\n",
    "plt.show()\n",
    "\n"
   ]
  },
  {
   "cell_type": "markdown",
   "metadata": {},
   "source": [
    "Methode 1: Capping/Winsorization"
   ]
  },
  {
   "cell_type": "code",
   "execution_count": null,
   "metadata": {},
   "outputs": [],
   "source": [
    "lower_bound = med_price_df['Unit_Price'].quantile(0.05)\n",
    "upper_bound = med_price_df['Unit_Price'].quantile(0.88)   \n",
    "# Cap values\n",
    "capping_med = med_price_df['Unit_Price'].clip(lower_bound, upper_bound)\n",
    "\n",
    "# Calculate IQR\n",
    "Q1_capped_med = capping_med.quantile(0.25)\n",
    "Q3_capped_med = capping_med.quantile(0.75)\n",
    "IQR_capped_med = Q3_capped_med - Q1_capped_med\n",
    "\n",
    "lower_limit_capped = Q1_capped_med - 1.5 * IQR_capped_med\n",
    "upper_limit_capped = Q3_capped_med + 1.5 * IQR_capped_med\n",
    "\n",
    "# Identify outliers based on IQR method before capping\n",
    "print(f\"Number of IQR method outliers before capping: {med_price_outliers.shape[0]}\")\n",
    "\n",
    "# Identify outliers based on IQR method after capping\n",
    "outliers_iqr_after_med = capping_med[(capping_med < lower_limit_capped) | (capping_med > upper_limit_capped)]\n",
    "print(f\"Number of IQR method outliers after capping: {outliers_iqr_after_med.shape[0]}\")\n",
    "\n",
    "\n",
    "# Plot capped values\n",
    "plt.figure(figsize=(15,5))\n",
    "\n",
    "plt.subplot(1, 2, 1)\n",
    "sns.boxplot(x=capping_med)\n",
    "plt.title('Boxplot for Medium priced data after Capping')\n",
    "\n",
    "plt.subplot(1, 2, 2)\n",
    "sns.histplot(capping_med, kde=True, bins=10)\n",
    "plt.title('Histogram for Medium priced data after cappingS')\n",
    "\n",
    "plt.tight_layout()\n",
    "plt.show()\n"
   ]
  },
  {
   "cell_type": "markdown",
   "metadata": {},
   "source": [
    "Method 2: Log Transformation"
   ]
  },
  {
   "cell_type": "code",
   "execution_count": null,
   "metadata": {},
   "outputs": [],
   "source": [
    "# Apply log transformation\n",
    "log_trans_med = np.log1p(med_price_df['Unit_Price'])  # Use log1p to handle zeros\n",
    "\n",
    "# Calculate IQR on the transformed data\n",
    "Q1_log_med = log_trans_med.quantile(0.25)  # Use the transformed column\n",
    "Q3_log_med = log_trans_med.quantile(0.75)\n",
    "IQR_log_med = Q3_log_med - Q1_log_med\n",
    "\n",
    "# Define lower and upper limits for outliers\n",
    "lower_limit_log = Q1_log_med - 1.5 * IQR_log_med\n",
    "upper_limit_log = Q3_log_med + 1.5 * IQR_log_med\n",
    "\n",
    "# Identify outliers after log transformation\n",
    "outliers_after_log = log_trans_med[(log_trans_med < lower_limit_log) | (log_trans_med > upper_limit_log)]\n",
    "\n",
    "# Number of Outliers\n",
    "print(f\"Number of Outliers before Log Transformation: {med_price_outliers.shape[0]}\")\n",
    "print(f\"Number of Outliers after Log Transformation: {outliers_after_log.shape[0]}\")\n",
    "print(f\"Number of Data Points Removed {med_price_df.shape[0]-log_trans_med.shape[0]}\")\n",
    "\n",
    "# Plot the data0\n",
    "plt.figure(figsize=(10, 5))\n",
    "\n",
    "# Boxplot for transformed data\n",
    "plt.subplot(1, 2, 1)\n",
    "sns.boxplot(x=log_trans_med)\n",
    "plt.title('Boxplot for Log-Transformed Medium-Priced Data')\n",
    "\n",
    "# Histogram for transformed data\n",
    "plt.subplot(1, 2, 2)\n",
    "sns.histplot(log_trans_med, kde=True, bins=10)\n",
    "plt.title('Histogram for Log-Transformed Medium-Priced Data')\n",
    "\n",
    "plt.tight_layout()\n",
    "plt.show()\n"
   ]
  },
  {
   "cell_type": "markdown",
   "metadata": {},
   "source": [
    "Methode 3: Square Root Transformation"
   ]
  },
  {
   "cell_type": "code",
   "execution_count": null,
   "metadata": {},
   "outputs": [],
   "source": [
    "# Apply square root transformation\n",
    "sqrt_trans_med = np.sqrt(med_price_df['Unit_Price'])\n",
    "\n",
    "# Calculate IQR on the transformed data\n",
    "Q1_sqrt_2 = sqrt_trans_med.quantile(0.25)\n",
    "Q3_sqrt_2 = sqrt_trans_med.quantile(0.75)\n",
    "IQR_sqrt_2 = Q3_sqrt_2 - Q1_sqrt_2\n",
    "\n",
    "# Define lower and upper limits for outliers\n",
    "lower_limit_sqrt = Q1_sqrt_2 - 1.5 * IQR_sqrt_2\n",
    "upper_limit_sqrt = Q3_sqrt_2 + 1.5 * IQR_sqrt_2\n",
    "\n",
    "# Identify outliers after square root transformation\n",
    "outliers_after_sqrt = sqrt_trans_med[(sqrt_trans_med < lower_limit_sqrt) | (sqrt_trans_med > upper_limit_sqrt)]\n",
    "\n",
    "# Number of Outliers\n",
    "print(f\"Number of Outliers before Transformation: {med_price_outliers.shape[0]}\")\n",
    "print(f\"Number of Outliers after Square Root Transformation: {outliers_after_sqrt.shape[0]}\")\n",
    "print(f\"Number of Data Points Removed {med_price_df.shape[0] - sqrt_trans_med.shape[0]}\")\n",
    "\n",
    "# Plot the data\n",
    "plt.figure(figsize=(10, 5))\n",
    "\n",
    "# Boxplot for transformed data\n",
    "plt.subplot(1, 2, 1)\n",
    "sns.boxplot(x=sqrt_trans_med)\n",
    "plt.title('Boxplot for Square Root Transformed Data')\n",
    "\n",
    "# Histogram for transformed data\n",
    "plt.subplot(1, 2, 2)\n",
    "sns.histplot(sqrt_trans_med, kde=True, bins=10)\n",
    "plt.title('Histogram for Square Root Transformed Medium-Priced Data')\n",
    "\n",
    "plt.tight_layout()\n",
    "plt.show()\n"
   ]
  },
  {
   "cell_type": "markdown",
   "metadata": {},
   "source": [
    "Again Capping is selected as it successfully handled outliers as compared to other two methods above"
   ]
  },
  {
   "cell_type": "code",
   "execution_count": null,
   "metadata": {},
   "outputs": [],
   "source": [
    "lower_bound = med_price_df['Unit_Price'].quantile(0.05)\n",
    "upper_bound = med_price_df['Unit_Price'].quantile(0.89)   \n",
    "# Cap values\n",
    "med_price_df['Unit_Price'] = med_price_df['Unit_Price'].clip(lower_bound, upper_bound)\n",
    "\n",
    "# Calculate IQR\n",
    "Q1_capped_med = med_price_df['Unit_Price'].quantile(0.25)\n",
    "Q3_capped_med = med_price_df['Unit_Price'].quantile(0.75)\n",
    "IQR_capped_med = Q3_capped_med - Q1_capped_med\n",
    "\n",
    "lower_limit_capped = Q1_capped_med - 1.5 * IQR_capped_med\n",
    "upper_limit_capped = Q3_capped_med + 1.5 * IQR_capped_med\n",
    "\n",
    "# Identify outliers based on IQR method before capping\n",
    "print(f\"Number of IQR method outliers before capping: {med_price_outliers.shape[0]}\")\n",
    "\n",
    "# Identify outliers based on IQR method after capping\n",
    "outliers_iqr_after_med = med_price_df['Unit_Price'][(med_price_df['Unit_Price'] < lower_limit_capped) | (med_price_df['Unit_Price'] > upper_limit_capped)]\n",
    "print(f\"Number of IQR method outliers after capping: {outliers_iqr_after_med.shape[0]}\")\n",
    "\n",
    "\n",
    "# Plot capped values\n",
    "plt.figure(figsize=(15,5))\n",
    "\n",
    "plt.subplot(1, 2, 1)\n",
    "sns.boxplot(x=med_price_df['Unit_Price'])\n",
    "plt.title('Boxplot for Medium priced data after Capping')\n",
    "\n",
    "plt.subplot(1, 2, 2)\n",
    "sns.histplot(med_price_df['Unit_Price'], kde=True, bins=10)\n",
    "plt.title('Histogram for Medium priced data after cappingS')\n",
    "\n",
    "plt.tight_layout()\n",
    "plt.show()\n"
   ]
  },
  {
   "cell_type": "markdown",
   "metadata": {},
   "source": [
    "Medium Priced Quantity Outlier Handling"
   ]
  },
  {
   "cell_type": "code",
   "execution_count": null,
   "metadata": {},
   "outputs": [],
   "source": [
    "lower_bound = med_price_df['Quantity'].quantile(0.05)\n",
    "upper_bound = med_price_df['Quantity'].quantile(0.85)   \n",
    "# Cap values\n",
    "capping_quan_med = med_price_df['Quantity'].clip(lower_bound, upper_bound)\n",
    "\n",
    "# Calculate IQR\n",
    "Q1_capped_quan_med = capping_quan_med.quantile(0.25)\n",
    "Q3_capped_quan_med = capping_quan_med.quantile(0.75)\n",
    "IQR_capped_quan_med = Q3_capped_quan_med - Q1_capped_quan_med\n",
    "\n",
    "lower_limit_capped = Q1_capped_quan_med - 1.5 * IQR_capped_quan_med\n",
    "upper_limit_capped = Q3_capped_quan_med + 1.5 * IQR_capped_quan_med\n",
    "\n",
    "# Identify outliers based on IQR method before capping\n",
    "print(f\"Number of IQR method outliers before capping: {med_price_outliers.shape[0]}\")\n",
    "\n",
    "# Identify outliers based on IQR method after capping\n",
    "outliers_iqr_after_med = capping_quan_med[(capping_quan_med < lower_limit_capped) | (capping_quan_med > upper_limit_capped)]\n",
    "print(f\"Number of IQR method outliers after capping: {outliers_iqr_after_med.shape[0]}\")\n",
    "\n",
    "\n",
    "# Plot capped values\n",
    "plt.figure(figsize=(15,5))\n",
    "\n",
    "plt.subplot(1, 2, 1)\n",
    "sns.boxplot(x=capping_quan_med)\n",
    "plt.title('Boxplot for Medium priced data after Capping')\n",
    "\n",
    "plt.subplot(1, 2, 2)\n",
    "sns.histplot(capping_quan_med, kde=True, bins=10)\n",
    "plt.title('Histogram for Medium priced data after capping')\n",
    "\n",
    "plt.tight_layout()\n",
    "plt.show()\n"
   ]
  },
  {
   "cell_type": "markdown",
   "metadata": {},
   "source": [
    "# DataFrame 3: High Priced Data"
   ]
  },
  {
   "cell_type": "code",
   "execution_count": null,
   "metadata": {},
   "outputs": [],
   "source": [
    "print(f\"Number of High Price Outliers (>100): {high_price_outliers.shape[0]}\")\n",
    "\n",
    "plt.figure(figsize=(12, 5))\n",
    "#boxplot \n",
    "plt.subplot(1, 3, 1)\n",
    "sns.boxplot(high_price_df['Unit_Price'], color='skyblue')\n",
    "plt.title('Boxplot of Unit Price')\n",
    "plt.xlabel('Unit_Price')\n",
    "#Histogram\n",
    "plt.subplot(1, 3, 2)\n",
    "sns.histplot(high_price_df['Unit_Price'], kde=True, color='Orange', bins=30)\n",
    "plt.title('Histogram of Unit Price')\n",
    "plt.xlabel('Box Plot')\n",
    "#Scatter Plot\n",
    "plt.subplot(1, 3, 3)\n",
    "sns.scatterplot(x=high_price_df['Unit_Price'], y=high_price_df['Quantity'], color='green')\n",
    "plt.title('Scatter Plot of Unit Price vs Quantity')\n",
    "plt.xlabel('Unit Price')\n",
    "plt.ylabel('Quantity') \n",
    "\n",
    "plt.tight_layout()\n",
    "plt.show()\n"
   ]
  },
  {
   "cell_type": "markdown",
   "metadata": {},
   "source": [
    "Methode 1: Capping/Winsorization"
   ]
  },
  {
   "cell_type": "code",
   "execution_count": null,
   "metadata": {},
   "outputs": [],
   "source": [
    "lower_bound = high_price_df['Unit_Price'].quantile(0.05)\n",
    "upper_bound = high_price_df['Unit_Price'].quantile(0.85)   \n",
    "# Cap values\n",
    "capping_high = high_price_df['Unit_Price'].clip(lower_bound, upper_bound)\n",
    "\n",
    "# Calculate IQR\n",
    "Q1_capped_high = capping_high.quantile(0.25)\n",
    "Q3_capped_high = capping_high.quantile(0.75)\n",
    "IQR_capped_high = Q3_capped_high - Q1_capped_high\n",
    "\n",
    "lower_limit_capped = Q1_capped_high - 1.5 * IQR_capped_high\n",
    "upper_limit_capped = Q3_capped_high + 1.5 * IQR_capped_high\n",
    "\n",
    "# Identify outliers based on IQR method before capping\n",
    "print(f\"Number of IQR method outliers before capping: {high_price_outliers.shape[0]}\")\n",
    "\n",
    "# Identify outliers based on IQR method after capping\n",
    "outliers_iqr_after_high = capping_high[(capping_high < lower_limit_capped) | (capping_high > upper_limit_capped)]\n",
    "print(f\"Number of IQR method outliers after capping: {outliers_iqr_after_high.shape[0]}\")\n",
    "\n",
    "\n",
    "# Plot capped values\n",
    "plt.figure(figsize=(15,5))\n",
    "\n",
    "plt.subplot(1, 2, 1)\n",
    "sns.boxplot(x=capping_high)\n",
    "plt.title('Boxplot for High priced data after Capping')\n",
    "\n",
    "plt.subplot(1, 2, 2)\n",
    "sns.histplot(capping_high, kde=True, bins=10)\n",
    "plt.title('Histogram for High priced data after cappingS')\n",
    "\n",
    "plt.tight_layout()\n",
    "plt.show()\n"
   ]
  },
  {
   "cell_type": "markdown",
   "metadata": {},
   "source": [
    "Methode 2: Log Tranformation"
   ]
  },
  {
   "cell_type": "code",
   "execution_count": null,
   "metadata": {},
   "outputs": [],
   "source": [
    "# Apply log transformation\n",
    "log_trans_high = np.log1p(high_price_df['Unit_Price'])  # Use log1p to handle zeros\n",
    "\n",
    "# Calculate IQR on the transformed data\n",
    "Q1_log_high = log_trans_high.quantile(0.25)  # Use the transformed column\n",
    "Q3_log_high = log_trans_high.quantile(0.75)\n",
    "IQR_log_high = Q3_log_high - Q1_log_high\n",
    "\n",
    "# Define lower and upper limits for outliers\n",
    "lower_limit_log = Q1_log_high - 1.5 * IQR_log_high\n",
    "upper_limit_log = Q3_log_high + 1.5 * IQR_log_high\n",
    "\n",
    "# Identify outliers after log transformation\n",
    "outliers_after_log_high = log_trans_high[(log_trans_high < lower_limit_log) | (log_trans_high > upper_limit_log)]\n",
    "\n",
    "# Number of Outliers\n",
    "print(f\"Number of Outliers before Log Transformation: {high_price_outliers.shape[0]}\")\n",
    "print(f\"Number of Outliers after Log Transformation: {outliers_after_log_high.shape[0]}\")\n",
    "print(f\"Number of Data Points Removed {high_price_df.shape[0]-log_trans_high.shape[0]}\")\n",
    "\n",
    "# Plot the data0\n",
    "plt.figure(figsize=(10, 5))\n",
    "\n",
    "# Boxplot for transformed data\n",
    "plt.subplot(1, 2, 1)\n",
    "sns.boxplot(x=log_trans_high)\n",
    "plt.title('Boxplot for Log-Transformed High Priced Data')\n",
    "\n",
    "# Histogram for transformed data\n",
    "plt.subplot(1, 2, 2)\n",
    "sns.histplot(log_trans_high, kde=True, bins=10)\n",
    "plt.title('Histogram for Log-Transformed High Priced Data')\n",
    "\n",
    "plt.tight_layout()\n",
    "plt.show()\n"
   ]
  },
  {
   "cell_type": "markdown",
   "metadata": {},
   "source": [
    "Methode 3: Square Root"
   ]
  },
  {
   "cell_type": "code",
   "execution_count": null,
   "metadata": {},
   "outputs": [],
   "source": [
    "sqrt_trans_high = np.sqrt(high_price_df['Unit_Price'])\n",
    "\n",
    "# Calculate IQR on the transformed data\n",
    "Q1_sqrt_high = sqrt_trans_high.quantile(0.25)\n",
    "Q3_sqrt_high = sqrt_trans_high.quantile(0.75)\n",
    "IQR_sqrt_high = Q3_sqrt_high - Q1_sqrt_high\n",
    "\n",
    "# Define lower and upper limits for outliers\n",
    "lower_limit_sqrt = Q1_sqrt_high - 1.5 * IQR_sqrt_high\n",
    "upper_limit_sqrt = Q3_sqrt_high + 1.5 * IQR_sqrt_high\n",
    "\n",
    "# Identify outliers after square root transformation\n",
    "outliers_after_sqrt = sqrt_trans_high[(sqrt_trans_high < lower_limit_sqrt) | (sqrt_trans_high > upper_limit_sqrt)]\n",
    "\n",
    "# Number of Outliers\n",
    "print(f\"Number of Outliers before Transformation: {high_price_outliers.shape[0]}\")\n",
    "print(f\"Number of Outliers after Square Root Transformation: {outliers_after_sqrt.shape[0]}\")\n",
    "print(f\"Number of Data Points Removed {high_price_df.shape[0] - sqrt_trans_high.shape[0]}\")\n",
    "\n",
    "# Plot the data\n",
    "plt.figure(figsize=(10, 5))\n",
    "\n",
    "# Boxplot for transformed data\n",
    "plt.subplot(1, 2, 1)\n",
    "sns.boxplot(x=sqrt_trans_high)\n",
    "plt.title('Boxplot for Square Root Transformed Data')\n",
    "\n",
    "# Histogram for transformed data\n",
    "plt.subplot(1, 2, 2)\n",
    "sns.histplot(sqrt_trans_high, kde=True, bins=10)\n",
    "plt.title('Histogram for Square Root Transformed Data')"
   ]
  },
  {
   "cell_type": "markdown",
   "metadata": {},
   "source": [
    "Applying Capping method as log tranformation scale down the data messively"
   ]
  },
  {
   "cell_type": "code",
   "execution_count": null,
   "metadata": {},
   "outputs": [],
   "source": [
    "lower_bound = high_price_df['Unit_Price'].quantile(0.05)\n",
    "upper_bound = high_price_df['Unit_Price'].quantile(0.80)   \n",
    "# Cap values\n",
    "high_price_df['Unit_Price'] = high_price_df['Unit_Price'].clip(lower_bound, upper_bound)\n",
    "\n",
    "# Calculate IQR\n",
    "Q1_capped_high = high_price_df['Unit_Price'].quantile(0.25)\n",
    "Q3_capped_high = high_price_df['Unit_Price'].quantile(0.75)\n",
    "IQR_capped_high = Q3_capped_high - Q1_capped_high\n",
    "\n",
    "lower_limit_capped = Q1_capped_high - 1.5 * IQR_capped_high\n",
    "upper_limit_capped = Q3_capped_high + 1.5 * IQR_capped_high\n",
    "\n",
    "# Identify outliers based on IQR method before capping\n",
    "print(f\"Number of IQR method outliers before capping: {high_price_outliers.shape[0]}\")\n",
    "\n",
    "# Identify outliers based on IQR method after capping\n",
    "outliers_iqr_after_high = high_price_df['Unit_Price'][(high_price_df['Unit_Price'] < lower_limit_capped) | (high_price_df['Unit_Price'] > upper_limit_capped)]\n",
    "print(f\"Number of IQR method outliers after capping: {outliers_iqr_after_high.shape[0]}\")\n",
    "\n",
    "\n",
    "# Plot capped values\n",
    "plt.figure(figsize=(15,5))\n",
    "\n",
    "plt.subplot(1, 2, 1)\n",
    "sns.boxplot(x=high_price_df['Unit_Price'])\n",
    "plt.title('Boxplot for High priced data after Capping')\n",
    "\n",
    "plt.subplot(1, 2, 2)\n",
    "sns.histplot(high_price_df['Unit_Price'], kde=True, bins=10)\n",
    "plt.title('Histogram for High priced data after capping')\n",
    "\n",
    "plt.tight_layout()\n",
    "plt.show()\n"
   ]
  },
  {
   "cell_type": "code",
   "execution_count": null,
   "metadata": {},
   "outputs": [],
   "source": [
    "# Calculate Q1 (25th percentile) and Q3 (75th percentile)\n",
    "Q1_quantity = low_price_df['Quantity'].quantile(0.25)\n",
    "Q3_quantity = low_price_df['Quantity'].quantile(0.75)\n",
    "\n",
    "# Calculate the IQR\n",
    "IQR_quantity = Q3_quantity - Q1_quantity\n",
    "\n",
    "# Define lower and upper limits for outliers\n",
    "lower_limit_quantity = Q1_quantity - 1.5 * IQR_quantity\n",
    "upper_limit_quantity = Q3_quantity + 1.5 * IQR_quantity\n",
    "\n",
    "low_price_df['Quantity'] = low_price_df['Quantity'].clip(lower_limit_quantity, upper_limit_quantity)\n"
   ]
  },
  {
   "cell_type": "code",
   "execution_count": 79,
   "metadata": {},
   "outputs": [],
   "source": [
    "low_price_df = low_price_df[low_price_df['Quantity'] > 0]"
   ]
  },
  {
   "cell_type": "code",
   "execution_count": null,
   "metadata": {},
   "outputs": [],
   "source": [
    "sns.boxplot(low_price_df.Quantity)"
   ]
  },
  {
   "cell_type": "code",
   "execution_count": 518,
   "metadata": {},
   "outputs": [],
   "source": [
    "# Saving all three datasets separately\n",
    "# All files will be saved in current working directory\n",
    "low_price_df.to_csv('Low_Priced_Cleaned_df.csv', index=False)\n",
    "med_price_df.to_csv('Medium_Priced_Cleaned_df.csv',index=False)\n",
    "high_price_df.to_csv('High_Priced_Cleaned_df.csv',index=False)"
   ]
  }
 ],
 "metadata": {
  "kernelspec": {
   "display_name": "Python 3",
   "language": "python",
   "name": "python3"
  },
  "language_info": {
   "codemirror_mode": {
    "name": "ipython",
    "version": 3
   },
   "file_extension": ".py",
   "mimetype": "text/x-python",
   "name": "python",
   "nbconvert_exporter": "python",
   "pygments_lexer": "ipython3",
   "version": "3.12.5"
  }
 },
 "nbformat": 4,
 "nbformat_minor": 2
}
